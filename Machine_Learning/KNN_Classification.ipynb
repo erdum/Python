{
  "nbformat": 4,
  "nbformat_minor": 0,
  "metadata": {
    "colab": {
      "name": "KNN_Classification",
      "provenance": [],
      "collapsed_sections": []
    },
    "kernelspec": {
      "name": "python3",
      "display_name": "Python 3"
    }
  },
  "cells": [
    {
      "cell_type": "code",
      "metadata": {
        "id": "Pbx85Lk1N_ed"
      },
      "source": [
        "import matplotlib.pyplot as plt\n",
        "import pandas as pd\n",
        "import numpy as np\n",
        "from sklearn.metrics import classification_report\n",
        "from sklearn.neighbors import KNeighborsClassifier\n",
        "from sklearn import preprocessing"
      ],
      "execution_count": null,
      "outputs": []
    },
    {
      "cell_type": "code",
      "metadata": {
        "id": "AuHAgm9xOm3x"
      },
      "source": [
        "raw_data = pd.read_csv(\"shape.csv\")"
      ],
      "execution_count": null,
      "outputs": []
    },
    {
      "cell_type": "markdown",
      "metadata": {
        "id": "5y8nrh92gp53"
      },
      "source": [
        " First we have to create three different lists for each column in our data set, because our data set is in dataframe format"
      ]
    },
    {
      "cell_type": "code",
      "metadata": {
        "id": "XpilV_Abg0EO"
      },
      "source": [
        "Length = list(raw_data[\"Length\"])"
      ],
      "execution_count": null,
      "outputs": []
    },
    {
      "cell_type": "code",
      "metadata": {
        "id": "jgf6mDhthHS3"
      },
      "source": [
        "Width = list(raw_data[\"Width\"])"
      ],
      "execution_count": null,
      "outputs": []
    },
    {
      "cell_type": "code",
      "metadata": {
        "id": "n2f8fS9-hNn4"
      },
      "source": [
        "Label = list(raw_data[\"Label\"])"
      ],
      "execution_count": null,
      "outputs": []
    },
    {
      "cell_type": "markdown",
      "metadata": {
        "id": "IvT9bY1AfzlS"
      },
      "source": [
        "Remember that a model always want data sets in numeric format so our both features Length and Width are in numeric format but our label is not in numeric format so we have to encode it first \n",
        "Encoding work like this if we have 2 categorical data like square and rectangle then after encoding it is convert into numbers like 0 for square and 1 for rectangle."
      ]
    },
    {
      "cell_type": "code",
      "metadata": {
        "id": "GLvQsku4gkvT"
      },
      "source": [
        "encoder = preprocessing.LabelEncoder()"
      ],
      "execution_count": null,
      "outputs": []
    },
    {
      "cell_type": "code",
      "metadata": {
        "id": "jY32pXdwhjlO"
      },
      "source": [
        "Label = encoder.fit_transform(Label)"
      ],
      "execution_count": null,
      "outputs": []
    },
    {
      "cell_type": "markdown",
      "metadata": {
        "id": "1OCdTnlRiIkm"
      },
      "source": [
        "Now you can see our Label is encoded in numeric format"
      ]
    },
    {
      "cell_type": "code",
      "metadata": {
        "colab": {
          "base_uri": "https://localhost:8080/"
        },
        "id": "As0_KUJLiCIS",
        "outputId": "f8bffdbd-cb0d-4040-e646-ca8b0978fade"
      },
      "source": [
        "Label"
      ],
      "execution_count": null,
      "outputs": [
        {
          "output_type": "execute_result",
          "data": {
            "text/plain": [
              "array([1, 1, 1, 1, 1, 0, 0, 0, 0, 0, 0, 0, 0, 0, 0, 0, 0, 0, 0, 0, 0, 0,\n",
              "       0, 0, 0])"
            ]
          },
          "metadata": {
            "tags": []
          },
          "execution_count": 37
        }
      ]
    },
    {
      "cell_type": "markdown",
      "metadata": {
        "id": "pvn3DQbniaFz"
      },
      "source": [
        "Now we have to split data set into training and testing parts for that we have to give 20 items to training set and remaining 5 items to test for checking our model's accuracy"
      ]
    },
    {
      "cell_type": "code",
      "metadata": {
        "id": "Up_RzyXKidBN"
      },
      "source": [
        "Label_train = Label[:19]\n",
        "Length_train = Length[:19]\n",
        "Width_train = Width[:19]"
      ],
      "execution_count": null,
      "outputs": []
    },
    {
      "cell_type": "code",
      "metadata": {
        "id": "z7f2fOz6jUBQ"
      },
      "source": [
        "Label_test = Label[19:]\n",
        "Length_test = Length[19:]\n",
        "Width_test = Width[19:]"
      ],
      "execution_count": null,
      "outputs": []
    },
    {
      "cell_type": "markdown",
      "metadata": {
        "id": "oEuZzir3jm3H"
      },
      "source": [
        " But did you notice we have two columns of features Length and Width but our model can only take one list so we have to combine our both features list into one list of pairs of tuple"
      ]
    },
    {
      "cell_type": "code",
      "metadata": {
        "id": "3Orr9mj1j9cj"
      },
      "source": [
        "Features = list(zip(Length_train, Width_train))"
      ],
      "execution_count": null,
      "outputs": []
    },
    {
      "cell_type": "code",
      "metadata": {
        "id": "We7G7DoMrXAY"
      },
      "source": [
        "Features_test = list(zip(Length_test, Width_test))"
      ],
      "execution_count": null,
      "outputs": []
    },
    {
      "cell_type": "markdown",
      "metadata": {
        "id": "rpVtgj4nkPEr"
      },
      "source": [
        "Now if you look at Features we have a list of tuple pairs"
      ]
    },
    {
      "cell_type": "code",
      "metadata": {
        "colab": {
          "base_uri": "https://localhost:8080/"
        },
        "id": "jJrt--4MkXx1",
        "outputId": "69405c3e-b70a-498e-e87f-fb41332f56af"
      },
      "source": [
        "Features"
      ],
      "execution_count": null,
      "outputs": [
        {
          "output_type": "execute_result",
          "data": {
            "text/plain": [
              "[(1, 1),\n",
              " (2, 2),\n",
              " (3, 3),\n",
              " (4, 4),\n",
              " (5, 5),\n",
              " (1, 2),\n",
              " (2, 1),\n",
              " (1, 3),\n",
              " (3, 1),\n",
              " (2, 3),\n",
              " (3, 2),\n",
              " (1, 4),\n",
              " (4, 1),\n",
              " (2, 4),\n",
              " (4, 2),\n",
              " (3, 4),\n",
              " (4, 3),\n",
              " (1, 5),\n",
              " (5, 1)]"
            ]
          },
          "metadata": {
            "tags": []
          },
          "execution_count": 40
        }
      ]
    },
    {
      "cell_type": "markdown",
      "metadata": {
        "id": "ILTtvXRGkdRj"
      },
      "source": [
        "Now we can create our model and train it\n",
        "The n_neighbors argument just tell the model that we want three k neighbors"
      ]
    },
    {
      "cell_type": "code",
      "metadata": {
        "id": "h74mnQ9FkjjN"
      },
      "source": [
        "model = KNeighborsClassifier(n_neighbors=3)"
      ],
      "execution_count": null,
      "outputs": []
    },
    {
      "cell_type": "code",
      "metadata": {
        "colab": {
          "base_uri": "https://localhost:8080/"
        },
        "id": "HwjOQAYKnvtS",
        "outputId": "38e72c35-7eca-4a00-d52f-c39105d738d3"
      },
      "source": [
        "model.fit(Features, Label_train)"
      ],
      "execution_count": null,
      "outputs": [
        {
          "output_type": "execute_result",
          "data": {
            "text/plain": [
              "KNeighborsClassifier(algorithm='auto', leaf_size=30, metric='minkowski',\n",
              "                     metric_params=None, n_jobs=None, n_neighbors=3, p=2,\n",
              "                     weights='uniform')"
            ]
          },
          "metadata": {
            "tags": []
          },
          "execution_count": 42
        }
      ]
    },
    {
      "cell_type": "markdown",
      "metadata": {
        "id": "Sz4EEMW3CLuK"
      },
      "source": [
        "Now we can find accuracy of our model"
      ]
    },
    {
      "cell_type": "code",
      "metadata": {
        "colab": {
          "base_uri": "https://localhost:8080/"
        },
        "id": "AKSmd8HVEdu9",
        "outputId": "249739af-15ff-4158-caed-ccc329ac86f3"
      },
      "source": [
        "results = model.predict(Features_test)\n",
        "print(results)"
      ],
      "execution_count": null,
      "outputs": [
        {
          "output_type": "stream",
          "text": [
            "[0 0 0 0 1 1]\n"
          ],
          "name": "stdout"
        }
      ]
    },
    {
      "cell_type": "markdown",
      "metadata": {
        "id": "fLQWBamREwx6"
      },
      "source": [
        "Now above you can see our predict results now lets compare these with actual values of these, remember there are pre made methods for finding models accuracy but i just only showing u the difference and finding accuracy by hand"
      ]
    },
    {
      "cell_type": "code",
      "metadata": {
        "colab": {
          "base_uri": "https://localhost:8080/"
        },
        "id": "OYjsUQxBFOCO",
        "outputId": "4a7f986b-e590-489e-b96e-8016740c7290"
      },
      "source": [
        "print(\"Actual values: \", end=\"\")\n",
        "print(results)\n",
        "print(\"Predicted values: \", end=\"\")\n",
        "print(Label_test)"
      ],
      "execution_count": null,
      "outputs": [
        {
          "output_type": "stream",
          "text": [
            "Actual values: [0 0 0 0 1 1]\n",
            "Predicted values: [0 0 0 0 0 0]\n"
          ],
          "name": "stdout"
        }
      ]
    },
    {
      "cell_type": "markdown",
      "metadata": {
        "id": "u1lzj1iyF_L7"
      },
      "source": [
        "So you can see above 4 results are correct and 2 are incorrect so in order to find accuracy here is the math:\n",
        "divide 100 by number of values 100/6=16.66\n",
        "now if we use compare all these values with each other and at the end count how many were correct in our example its 4 values which are correct then multiply 16.66 with the number of correct values 16.666*4=66% here it is how you can find accuracy of any model but it is impractical.\n",
        "\n",
        "This all in action for any model."
      ]
    },
    {
      "cell_type": "code",
      "metadata": {
        "colab": {
          "base_uri": "https://localhost:8080/"
        },
        "id": "KdN7bhhgErL6",
        "outputId": "93fbae55-0af5-4dd4-c21c-fa8bf6c35c5e"
      },
      "source": [
        "correct_result = 0\n",
        "val = 100/len(results)\n",
        "for i, value in enumerate(results):\n",
        "  if value == Label_test[i]:\n",
        "    correct_result+=1\n",
        "print(correct_result*val)"
      ],
      "execution_count": null,
      "outputs": [
        {
          "output_type": "stream",
          "text": [
            "66.66666666666667\n"
          ],
          "name": "stdout"
        }
      ]
    }
  ]
}